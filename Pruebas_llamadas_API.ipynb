{
 "cells": [
  {
   "cell_type": "markdown",
   "metadata": {},
   "source": [
    "### Pruebas de llamadas a API\n",
    "\n",
    "    - Probamos a buscar datos de nuestra coleccion\n",
    "    - Probamos a insertar datos en la base de datos"
   ]
  },
  {
   "cell_type": "code",
   "execution_count": 1,
   "metadata": {},
   "outputs": [],
   "source": [
    "import requests\n",
    "import json\n",
    "import pandas as pd\n",
    "from pymongo import MongoClient"
   ]
  },
  {
   "cell_type": "markdown",
   "metadata": {},
   "source": [
    "## 1. GET"
   ]
  },
  {
   "cell_type": "markdown",
   "metadata": {},
   "source": [
    "#### 1.1 Llamada a la api para saber las frases de un determinado personaje"
   ]
  },
  {
   "cell_type": "code",
   "execution_count": 2,
   "metadata": {},
   "outputs": [],
   "source": [
    "url = \"http://localhost:5000/frases/\"\n",
    "person = \"Leonard\""
   ]
  },
  {
   "cell_type": "code",
   "execution_count": 3,
   "metadata": {},
   "outputs": [
    {
     "data": {
      "text/plain": [
       "{'Text': 'He’s finding the acoustic sweet spot.', 'Speaker': 'Leonard'}"
      ]
     },
     "execution_count": 3,
     "metadata": {},
     "output_type": "execute_result"
    }
   ],
   "source": [
    "frases = requests.get(url + person).json()\n",
    "frases[1]"
   ]
  },
  {
   "cell_type": "markdown",
   "metadata": {},
   "source": [
    "##### 1.2 Llamada a la api para ver que personajes intervienen en ciertas localizaciones"
   ]
  },
  {
   "cell_type": "code",
   "execution_count": 4,
   "metadata": {},
   "outputs": [],
   "source": [
    "url = \"http://localhost:5000/places/\"\n",
    "places = \"The apartment\"\n",
    "\n",
    "places = requests.get(url + places).json()\n"
   ]
  },
  {
   "cell_type": "code",
   "execution_count": 67,
   "metadata": {},
   "outputs": [
    {
     "data": {
      "text/plain": [
       "{'Location': 'The apartment', 'Speaker': 'Leonard'}"
      ]
     },
     "execution_count": 67,
     "metadata": {},
     "output_type": "execute_result"
    }
   ],
   "source": [
    "places[0]"
   ]
  },
  {
   "cell_type": "markdown",
   "metadata": {},
   "source": [
    "##### 1.3 Llamada a la api para ver las frases de un personaje en una determinada ubicacion "
   ]
  },
  {
   "cell_type": "code",
   "execution_count": 14,
   "metadata": {},
   "outputs": [],
   "source": [
    "#Todas las frases de Sheldon en la tienda de comics\n",
    "url = \"http://localhost:5000/personaje/loc/\"\n",
    "person = \"Sheldon\"\n",
    "place = \"/The comic book store\""
   ]
  },
  {
   "cell_type": "code",
   "execution_count": 17,
   "metadata": {},
   "outputs": [],
   "source": [
    "search = requests.get(url + person + place).json()"
   ]
  },
  {
   "cell_type": "code",
   "execution_count": 19,
   "metadata": {},
   "outputs": [
    {
     "data": {
      "text/plain": [
       "[{'Text': 'Oh yes.'},\n",
       " {'Text': 'Thank you. You just robbed me of the opportunity to stumble upon the figurine and make the oh-so-satisfying journey from discovery to desire to possession.'},\n",
       " {'Text': 'She’s gonna hate the panels.'},\n",
       " {'Text': 'Underworld guardian. We skirmish to the death.'},\n",
       " {'Text': 'You can always watch the panels online. Oh boy we do say that a lot.'}]"
      ]
     },
     "execution_count": 19,
     "metadata": {},
     "output_type": "execute_result"
    }
   ],
   "source": [
    "search[:5]"
   ]
  },
  {
   "cell_type": "markdown",
   "metadata": {},
   "source": [
    "## 2. method=POST"
   ]
  },
  {
   "cell_type": "markdown",
   "metadata": {},
   "source": [
    "#### 2.1 Introduccion de datos a la base de datos mongodb "
   ]
  },
  {
   "cell_type": "code",
   "execution_count": 26,
   "metadata": {},
   "outputs": [],
   "source": [
    "datos = {\n",
    "    'Location':\"The apartment\",\n",
    "    'Speaker':\"Sergio\",\n",
    "    'Text':'Bazinga!'\n",
    "}"
   ]
  },
  {
   "cell_type": "code",
   "execution_count": 27,
   "metadata": {},
   "outputs": [],
   "source": [
    "url = \"http://127.0.0.1:5000/nuevopersonaje\""
   ]
  },
  {
   "cell_type": "code",
   "execution_count": 28,
   "metadata": {},
   "outputs": [
    {
     "data": {
      "text/plain": [
       "<Response [200]>"
      ]
     },
     "execution_count": 28,
     "metadata": {},
     "output_type": "execute_result"
    }
   ],
   "source": [
    "requests.post(url, data = datos)"
   ]
  },
  {
   "cell_type": "markdown",
   "metadata": {},
   "source": [
    "##### Otra prueba"
   ]
  },
  {
   "cell_type": "code",
   "execution_count": 63,
   "metadata": {},
   "outputs": [],
   "source": [
    "per=[{\"Speaker\": \"Leonard\"},\n",
    "     {\"Speaker\": \"Sheldon\"},\n",
    "     {\"Speaker\": \"Howard\"},\n",
    "     {\"Speaker\": \"Penny\"},\n",
    "     {\"Speaker\": \"Raj\"}]"
   ]
  },
  {
   "cell_type": "code",
   "execution_count": 62,
   "metadata": {},
   "outputs": [],
   "source": [
    "url = \"http://127.0.0.1:5000/nuevopersonaje\""
   ]
  },
  {
   "cell_type": "code",
   "execution_count": 65,
   "metadata": {},
   "outputs": [
    {
     "name": "stdout",
     "output_type": "stream",
     "text": [
      "{'Speaker': 'Leonard'}\n",
      "{'Speaker': 'Sheldon'}\n",
      "{'Speaker': 'Howard'}\n",
      "{'Speaker': 'Penny'}\n",
      "{'Speaker': 'Raj'}\n"
     ]
    }
   ],
   "source": [
    "for i in per:\n",
    "    print(i)\n",
    "    requests.post(url, data = i)"
   ]
  },
  {
   "cell_type": "markdown",
   "metadata": {},
   "source": [
    "#### 2.2 Comprobamos que se ha insertado bien"
   ]
  },
  {
   "cell_type": "code",
   "execution_count": 29,
   "metadata": {},
   "outputs": [],
   "source": [
    "url = \"http://localhost:5000/frases/\"\n",
    "person = \"Sergio\""
   ]
  },
  {
   "cell_type": "code",
   "execution_count": 30,
   "metadata": {},
   "outputs": [],
   "source": [
    "frases = requests.get(url + person).json()"
   ]
  },
  {
   "cell_type": "code",
   "execution_count": 31,
   "metadata": {},
   "outputs": [
    {
     "data": {
      "text/plain": [
       "[{'Speaker': 'Sergio', 'Text': 'Bazinga!'}]"
      ]
     },
     "execution_count": 31,
     "metadata": {},
     "output_type": "execute_result"
    }
   ],
   "source": [
    "frases"
   ]
  },
  {
   "cell_type": "code",
   "execution_count": null,
   "metadata": {},
   "outputs": [],
   "source": []
  },
  {
   "cell_type": "code",
   "execution_count": null,
   "metadata": {},
   "outputs": [],
   "source": []
  },
  {
   "cell_type": "code",
   "execution_count": null,
   "metadata": {},
   "outputs": [],
   "source": []
  },
  {
   "cell_type": "code",
   "execution_count": null,
   "metadata": {},
   "outputs": [],
   "source": []
  },
  {
   "cell_type": "code",
   "execution_count": null,
   "metadata": {},
   "outputs": [],
   "source": []
  },
  {
   "cell_type": "code",
   "execution_count": null,
   "metadata": {},
   "outputs": [],
   "source": []
  },
  {
   "cell_type": "code",
   "execution_count": null,
   "metadata": {},
   "outputs": [],
   "source": []
  },
  {
   "cell_type": "code",
   "execution_count": null,
   "metadata": {},
   "outputs": [],
   "source": []
  },
  {
   "cell_type": "code",
   "execution_count": null,
   "metadata": {},
   "outputs": [],
   "source": []
  },
  {
   "cell_type": "code",
   "execution_count": null,
   "metadata": {},
   "outputs": [],
   "source": []
  },
  {
   "cell_type": "code",
   "execution_count": null,
   "metadata": {},
   "outputs": [],
   "source": []
  },
  {
   "cell_type": "code",
   "execution_count": null,
   "metadata": {},
   "outputs": [],
   "source": []
  },
  {
   "cell_type": "code",
   "execution_count": null,
   "metadata": {},
   "outputs": [],
   "source": []
  },
  {
   "cell_type": "code",
   "execution_count": null,
   "metadata": {},
   "outputs": [],
   "source": []
  },
  {
   "cell_type": "code",
   "execution_count": null,
   "metadata": {},
   "outputs": [],
   "source": []
  },
  {
   "cell_type": "code",
   "execution_count": null,
   "metadata": {},
   "outputs": [],
   "source": []
  },
  {
   "cell_type": "code",
   "execution_count": null,
   "metadata": {},
   "outputs": [],
   "source": []
  },
  {
   "cell_type": "code",
   "execution_count": null,
   "metadata": {},
   "outputs": [],
   "source": []
  },
  {
   "cell_type": "code",
   "execution_count": null,
   "metadata": {},
   "outputs": [],
   "source": [
    "x=[{\"name\": \"Leonard\"}, {\"name\": \"Sheldon\"}, {\"name\": \"Howard\"}, {\"name\": \"Penny\"}, {\"name\": \"Raj\"}]"
   ]
  },
  {
   "cell_type": "code",
   "execution_count": null,
   "metadata": {},
   "outputs": [],
   "source": [
    "for i in x:\n",
    "    print(i)"
   ]
  },
  {
   "cell_type": "code",
   "execution_count": null,
   "metadata": {},
   "outputs": [],
   "source": [
    "mensaje = {'name': 'Leonard', 'name': 'Sheldon', 'name': 'Howard', 'name':'Penny', 'name':'Raj'}"
   ]
  },
  {
   "cell_type": "code",
   "execution_count": null,
   "metadata": {},
   "outputs": [],
   "source": [
    "url_mensaje = \"http://localhost:5000/new/user\"\n",
    "requests.post(url_mensaje, data=i)"
   ]
  },
  {
   "cell_type": "code",
   "execution_count": null,
   "metadata": {
    "scrolled": true
   },
   "outputs": [],
   "source": [
    "url_user = \"http://localhost:5000/new/user\"\n",
    "\n",
    "res=requests.post(url_user, data=x)"
   ]
  },
  {
   "cell_type": "code",
   "execution_count": null,
   "metadata": {
    "scrolled": true
   },
   "outputs": [],
   "source": [
    "res.json()"
   ]
  },
  {
   "cell_type": "code",
   "execution_count": null,
   "metadata": {},
   "outputs": [],
   "source": []
  },
  {
   "cell_type": "code",
   "execution_count": null,
   "metadata": {},
   "outputs": [],
   "source": []
  },
  {
   "cell_type": "code",
   "execution_count": null,
   "metadata": {},
   "outputs": [],
   "source": []
  },
  {
   "cell_type": "code",
   "execution_count": null,
   "metadata": {},
   "outputs": [],
   "source": []
  },
  {
   "cell_type": "code",
   "execution_count": null,
   "metadata": {},
   "outputs": [],
   "source": []
  },
  {
   "cell_type": "code",
   "execution_count": null,
   "metadata": {},
   "outputs": [],
   "source": []
  },
  {
   "cell_type": "code",
   "execution_count": null,
   "metadata": {},
   "outputs": [],
   "source": []
  },
  {
   "cell_type": "code",
   "execution_count": null,
   "metadata": {},
   "outputs": [],
   "source": []
  },
  {
   "cell_type": "code",
   "execution_count": 56,
   "metadata": {},
   "outputs": [
    {
     "data": {
      "text/plain": [
       "Sheldon    11447\n",
       "Leonard     9667\n",
       "Penny       7466\n",
       "Howard      5754\n",
       "Raj         4584\n",
       "Name: Speaker, dtype: int64"
      ]
     },
     "execution_count": 56,
     "metadata": {},
     "output_type": "execute_result"
    }
   ],
   "source": [
    "df[\"Speaker\"].value_counts()"
   ]
  },
  {
   "cell_type": "code",
   "execution_count": null,
   "metadata": {},
   "outputs": [],
   "source": []
  },
  {
   "cell_type": "code",
   "execution_count": null,
   "metadata": {},
   "outputs": [],
   "source": []
  },
  {
   "cell_type": "code",
   "execution_count": null,
   "metadata": {},
   "outputs": [],
   "source": []
  },
  {
   "cell_type": "code",
   "execution_count": null,
   "metadata": {},
   "outputs": [],
   "source": []
  },
  {
   "cell_type": "code",
   "execution_count": null,
   "metadata": {},
   "outputs": [],
   "source": []
  },
  {
   "cell_type": "code",
   "execution_count": null,
   "metadata": {},
   "outputs": [],
   "source": []
  },
  {
   "cell_type": "code",
   "execution_count": null,
   "metadata": {},
   "outputs": [],
   "source": []
  },
  {
   "cell_type": "code",
   "execution_count": null,
   "metadata": {},
   "outputs": [],
   "source": []
  },
  {
   "cell_type": "code",
   "execution_count": null,
   "metadata": {},
   "outputs": [],
   "source": []
  },
  {
   "cell_type": "code",
   "execution_count": null,
   "metadata": {},
   "outputs": [],
   "source": []
  },
  {
   "cell_type": "code",
   "execution_count": null,
   "metadata": {},
   "outputs": [],
   "source": []
  },
  {
   "cell_type": "code",
   "execution_count": null,
   "metadata": {},
   "outputs": [],
   "source": []
  },
  {
   "cell_type": "code",
   "execution_count": null,
   "metadata": {},
   "outputs": [],
   "source": []
  },
  {
   "cell_type": "code",
   "execution_count": null,
   "metadata": {},
   "outputs": [],
   "source": []
  },
  {
   "cell_type": "code",
   "execution_count": null,
   "metadata": {},
   "outputs": [],
   "source": []
  },
  {
   "cell_type": "code",
   "execution_count": null,
   "metadata": {},
   "outputs": [],
   "source": [
    "mensajes"
   ]
  },
  {
   "cell_type": "code",
   "execution_count": null,
   "metadata": {},
   "outputs": [],
   "source": [
    "json_personajes"
   ]
  },
  {
   "cell_type": "code",
   "execution_count": null,
   "metadata": {},
   "outputs": [],
   "source": [
    "per=[{\"name\": \"Leonard\"},\n",
    "     {\"name\": \"Sheldon\"},\n",
    "     {\"name\": \"Howard\"},\n",
    "     {\"name\": \"Penny\"},\n",
    "     {\"name\": \"Raj\"}]"
   ]
  },
  {
   "cell_type": "code",
   "execution_count": null,
   "metadata": {},
   "outputs": [],
   "source": []
  },
  {
   "cell_type": "code",
   "execution_count": null,
   "metadata": {},
   "outputs": [],
   "source": [
    "personajes = [{\"name\":\"Mike Wheeler\"},\n",
    "              {\"name\":\"Once\"},\n",
    "              {\"name\":\"Billy Hargrove\"},\n",
    "              {\"name\":\"Dustin Henderson\"},\n",
    "              {\"name\":\"Steve Harrington\"},\n",
    "              {\"name\":\"Will\"},\n",
    "              {\"name\":\"Suzie\"},\n",
    "              {\"name\":\"Jonathan\"},\n",
    "              {\"name\":\"Joyce Byers\"},\n",
    "              {\"name\":\"Erica Sinclair\"},\n",
    "              {\"name\":\"Karen Wheeler\"},\n",
    "              {\"name\":\"Max\"},\n",
    "              {\"name\":\"Bob Newby\"},\n",
    "              {\"name\":\"Nancy Wheeler\"},\n",
    "              {\"name\":\"Jim Hopper\"},\n",
    "              {\"name\":\"Dr. Owens\"},\n",
    "              {\"name\":\"Kali\"},\n",
    "              {\"name\":\"Murray Bauman\"},\n",
    "              {\"name\":\"Lucas\"}]"
   ]
  },
  {
   "cell_type": "code",
   "execution_count": null,
   "metadata": {},
   "outputs": [],
   "source": [
    "url_user = \"http://localhost:5000/new/user\"\n",
    "for x in per:\n",
    "    print(x)\n",
    "    res=requests.post(url_user, data=x)"
   ]
  },
  {
   "cell_type": "code",
   "execution_count": null,
   "metadata": {},
   "outputs": [],
   "source": [
    "res.json()"
   ]
  },
  {
   "cell_type": "code",
   "execution_count": null,
   "metadata": {},
   "outputs": [],
   "source": [
    "for k in x.items():\n",
    "   \n",
    "    print(k[1])"
   ]
  },
  {
   "cell_type": "code",
   "execution_count": null,
   "metadata": {},
   "outputs": [],
   "source": [
    "url_personajes = \"http://localhost:5000//new/user\""
   ]
  },
  {
   "cell_type": "code",
   "execution_count": null,
   "metadata": {},
   "outputs": [],
   "source": [
    "\n",
    "\n",
    "    \n",
    "requests.get(url_personajes, data=x)"
   ]
  },
  {
   "cell_type": "code",
   "execution_count": null,
   "metadata": {},
   "outputs": [],
   "source": [
    "res.json()"
   ]
  },
  {
   "cell_type": "code",
   "execution_count": null,
   "metadata": {},
   "outputs": [],
   "source": []
  },
  {
   "cell_type": "code",
   "execution_count": null,
   "metadata": {},
   "outputs": [],
   "source": []
  },
  {
   "cell_type": "code",
   "execution_count": null,
   "metadata": {},
   "outputs": [],
   "source": []
  },
  {
   "cell_type": "code",
   "execution_count": null,
   "metadata": {},
   "outputs": [],
   "source": []
  },
  {
   "cell_type": "code",
   "execution_count": null,
   "metadata": {},
   "outputs": [],
   "source": []
  },
  {
   "cell_type": "code",
   "execution_count": null,
   "metadata": {},
   "outputs": [],
   "source": []
  },
  {
   "cell_type": "code",
   "execution_count": null,
   "metadata": {},
   "outputs": [],
   "source": [
    "import json"
   ]
  },
  {
   "cell_type": "code",
   "execution_count": null,
   "metadata": {},
   "outputs": [],
   "source": [
    "with open('data/json_personajes.json') as file:\n",
    "    data = json.load(file)"
   ]
  },
  {
   "cell_type": "code",
   "execution_count": null,
   "metadata": {},
   "outputs": [],
   "source": [
    "type(data)"
   ]
  },
  {
   "cell_type": "code",
   "execution_count": null,
   "metadata": {},
   "outputs": [],
   "source": [
    "for k,v in data:\n",
    "    dict_personaje = {\n",
    "        k:v\n",
    "    }\n",
    "    print(dict_personaje)"
   ]
  },
  {
   "cell_type": "code",
   "execution_count": 7,
   "metadata": {},
   "outputs": [],
   "source": [
    "import pandas as pd"
   ]
  },
  {
   "cell_type": "code",
   "execution_count": 55,
   "metadata": {},
   "outputs": [],
   "source": [
    "df = pd.read_csv(\"data/big_bang_theory_dataset.csv\")"
   ]
  },
  {
   "cell_type": "code",
   "execution_count": 9,
   "metadata": {},
   "outputs": [],
   "source": [
    "df=df.head(49)"
   ]
  },
  {
   "cell_type": "code",
   "execution_count": 10,
   "metadata": {},
   "outputs": [
    {
     "data": {
      "text/plain": [
       "Unnamed: 0     0\n",
       "Location       0\n",
       "Scene         38\n",
       "Text           2\n",
       "Speaker        0\n",
       "Season         0\n",
       "dtype: int64"
      ]
     },
     "execution_count": 10,
     "metadata": {},
     "output_type": "execute_result"
    }
   ],
   "source": [
    "df.isnull().sum()"
   ]
  },
  {
   "cell_type": "code",
   "execution_count": 11,
   "metadata": {},
   "outputs": [],
   "source": [
    "df=df.drop([\"Unnamed: 0\", \"Scene\", \"Season\"], axis=1)\n"
   ]
  },
  {
   "cell_type": "code",
   "execution_count": 12,
   "metadata": {
    "scrolled": true
   },
   "outputs": [
    {
     "data": {
      "text/html": [
       "<div>\n",
       "<style scoped>\n",
       "    .dataframe tbody tr th:only-of-type {\n",
       "        vertical-align: middle;\n",
       "    }\n",
       "\n",
       "    .dataframe tbody tr th {\n",
       "        vertical-align: top;\n",
       "    }\n",
       "\n",
       "    .dataframe thead th {\n",
       "        text-align: right;\n",
       "    }\n",
       "</style>\n",
       "<table border=\"1\" class=\"dataframe\">\n",
       "  <thead>\n",
       "    <tr style=\"text-align: right;\">\n",
       "      <th></th>\n",
       "      <th>Location</th>\n",
       "      <th>Text</th>\n",
       "      <th>Speaker</th>\n",
       "    </tr>\n",
       "  </thead>\n",
       "  <tbody>\n",
       "    <tr>\n",
       "      <th>0</th>\n",
       "      <td>The apartment</td>\n",
       "      <td>Again I’m right here.</td>\n",
       "      <td>Leonard</td>\n",
       "    </tr>\n",
       "    <tr>\n",
       "      <th>1</th>\n",
       "      <td>The apartment</td>\n",
       "      <td>Fine. The record shall so reflect. Now getting...</td>\n",
       "      <td>Sheldon</td>\n",
       "    </tr>\n",
       "    <tr>\n",
       "      <th>2</th>\n",
       "      <td>The room in the basement</td>\n",
       "      <td>One two three four five six seven eight… Drat....</td>\n",
       "      <td>Sheldon</td>\n",
       "    </tr>\n",
       "    <tr>\n",
       "      <th>3</th>\n",
       "      <td>Sheldon and Amy’s bedroom</td>\n",
       "      <td>I’m not sure. Earlier tonight things began org...</td>\n",
       "      <td>Sheldon</td>\n",
       "    </tr>\n",
       "    <tr>\n",
       "      <th>4</th>\n",
       "      <td>A cinema</td>\n",
       "      <td>He’s finding the acoustic sweet spot.</td>\n",
       "      <td>Leonard</td>\n",
       "    </tr>\n",
       "    <tr>\n",
       "      <th>5</th>\n",
       "      <td>The apartment</td>\n",
       "      <td>NaN</td>\n",
       "      <td>Howard</td>\n",
       "    </tr>\n",
       "    <tr>\n",
       "      <th>6</th>\n",
       "      <td>Webcam conversation between Bernadette’s Offic...</td>\n",
       "      <td>Uh yeah last night. He kept making me drop pen...</td>\n",
       "      <td>Howard</td>\n",
       "    </tr>\n",
       "    <tr>\n",
       "      <th>7</th>\n",
       "      <td>Penny’s bedroom</td>\n",
       "      <td>What?</td>\n",
       "      <td>Penny</td>\n",
       "    </tr>\n",
       "    <tr>\n",
       "      <th>8</th>\n",
       "      <td>The apartment</td>\n",
       "      <td>There was a flier on the bulletin board at the...</td>\n",
       "      <td>Leonard</td>\n",
       "    </tr>\n",
       "    <tr>\n",
       "      <th>9</th>\n",
       "      <td>The same</td>\n",
       "      <td>Oh. A small human wreaks havoc on his wife’s g...</td>\n",
       "      <td>Sheldon</td>\n",
       "    </tr>\n",
       "    <tr>\n",
       "      <th>10</th>\n",
       "      <td>The apartment</td>\n",
       "      <td>Can we please change the subject.</td>\n",
       "      <td>Leonard</td>\n",
       "    </tr>\n",
       "    <tr>\n",
       "      <th>11</th>\n",
       "      <td>The escape room</td>\n",
       "      <td>Here it is. There’s a black light.</td>\n",
       "      <td>Leonard</td>\n",
       "    </tr>\n",
       "    <tr>\n",
       "      <th>12</th>\n",
       "      <td>The apartment</td>\n",
       "      <td>He would get his own place.</td>\n",
       "      <td>Penny</td>\n",
       "    </tr>\n",
       "    <tr>\n",
       "      <th>13</th>\n",
       "      <td>The cafeteria</td>\n",
       "      <td>You okay?</td>\n",
       "      <td>Leonard</td>\n",
       "    </tr>\n",
       "    <tr>\n",
       "      <th>14</th>\n",
       "      <td>The hallway</td>\n",
       "      <td>Kurt!</td>\n",
       "      <td>Penny</td>\n",
       "    </tr>\n",
       "    <tr>\n",
       "      <th>15</th>\n",
       "      <td>The foyer</td>\n",
       "      <td>Yeah but Sheldon and Amy were having date nigh...</td>\n",
       "      <td>Leonard</td>\n",
       "    </tr>\n",
       "    <tr>\n",
       "      <th>16</th>\n",
       "      <td>The apartment</td>\n",
       "      <td>Okay well goodnight.</td>\n",
       "      <td>Leonard</td>\n",
       "    </tr>\n",
       "    <tr>\n",
       "      <th>17</th>\n",
       "      <td>The cafeteria</td>\n",
       "      <td>Positive.</td>\n",
       "      <td>Leonard</td>\n",
       "    </tr>\n",
       "    <tr>\n",
       "      <th>18</th>\n",
       "      <td>The Physics Bowl</td>\n",
       "      <td>A sigma particle.</td>\n",
       "      <td>Sheldon</td>\n",
       "    </tr>\n",
       "    <tr>\n",
       "      <th>19</th>\n",
       "      <td>The apartment</td>\n",
       "      <td>He’s not wrong. It was your crackpot idea that...</td>\n",
       "      <td>Sheldon</td>\n",
       "    </tr>\n",
       "    <tr>\n",
       "      <th>20</th>\n",
       "      <td>The apartment</td>\n",
       "      <td>Well if you want privacy let go of the ring. I...</td>\n",
       "      <td>Raj</td>\n",
       "    </tr>\n",
       "    <tr>\n",
       "      <th>21</th>\n",
       "      <td>The cafeteria</td>\n",
       "      <td>That does it. I’m getting uranium.</td>\n",
       "      <td>Sheldon</td>\n",
       "    </tr>\n",
       "    <tr>\n",
       "      <th>22</th>\n",
       "      <td>The apartment</td>\n",
       "      <td>What are you doing?</td>\n",
       "      <td>Raj</td>\n",
       "    </tr>\n",
       "    <tr>\n",
       "      <th>23</th>\n",
       "      <td>The apartment</td>\n",
       "      <td>Oh now I’m a child? Well at least I’m not an i...</td>\n",
       "      <td>Penny</td>\n",
       "    </tr>\n",
       "    <tr>\n",
       "      <th>24</th>\n",
       "      <td>The apartment</td>\n",
       "      <td>Normally I’d feel the same way. But based on e...</td>\n",
       "      <td>Sheldon</td>\n",
       "    </tr>\n",
       "    <tr>\n",
       "      <th>25</th>\n",
       "      <td>The apartment</td>\n",
       "      <td>Definitely.</td>\n",
       "      <td>Penny</td>\n",
       "    </tr>\n",
       "    <tr>\n",
       "      <th>26</th>\n",
       "      <td>The memorial</td>\n",
       "      <td>I’m just gonna go home and let my work speak f...</td>\n",
       "      <td>Leonard</td>\n",
       "    </tr>\n",
       "    <tr>\n",
       "      <th>27</th>\n",
       "      <td>The university cafeteria</td>\n",
       "      <td>Oh Leonard there you are I’m ready to go home.</td>\n",
       "      <td>Sheldon</td>\n",
       "    </tr>\n",
       "    <tr>\n",
       "      <th>28</th>\n",
       "      <td>The comic book store</td>\n",
       "      <td>NaN</td>\n",
       "      <td>Howard</td>\n",
       "    </tr>\n",
       "    <tr>\n",
       "      <th>29</th>\n",
       "      <td>The store</td>\n",
       "      <td>You have no idea how much you inconvenience th...</td>\n",
       "      <td>Leonard</td>\n",
       "    </tr>\n",
       "    <tr>\n",
       "      <th>30</th>\n",
       "      <td>The apartment</td>\n",
       "      <td>Yeah I guess.</td>\n",
       "      <td>Penny</td>\n",
       "    </tr>\n",
       "    <tr>\n",
       "      <th>31</th>\n",
       "      <td>Moments later</td>\n",
       "      <td>As it turns out she was a North Korean spy. Lu...</td>\n",
       "      <td>Leonard</td>\n",
       "    </tr>\n",
       "    <tr>\n",
       "      <th>32</th>\n",
       "      <td>The living room</td>\n",
       "      <td>I have paperwork that says differently.</td>\n",
       "      <td>Sheldon</td>\n",
       "    </tr>\n",
       "    <tr>\n",
       "      <th>33</th>\n",
       "      <td>Lobby of the apartment building</td>\n",
       "      <td>We’re really more….</td>\n",
       "      <td>Leonard</td>\n",
       "    </tr>\n",
       "    <tr>\n",
       "      <th>34</th>\n",
       "      <td>The next morning</td>\n",
       "      <td>I wonder why she didn’t say good-bye.</td>\n",
       "      <td>Leonard</td>\n",
       "    </tr>\n",
       "    <tr>\n",
       "      <th>35</th>\n",
       "      <td>Penny’s car</td>\n",
       "      <td>Because he’s not like us Penny. We’re dreamers.</td>\n",
       "      <td>Sheldon</td>\n",
       "    </tr>\n",
       "    <tr>\n",
       "      <th>36</th>\n",
       "      <td>The apartment</td>\n",
       "      <td>No I was in India it was humid and smelled funny.</td>\n",
       "      <td>Howard</td>\n",
       "    </tr>\n",
       "    <tr>\n",
       "      <th>37</th>\n",
       "      <td>The apartment</td>\n",
       "      <td>You just wave your arms a little and they fly ...</td>\n",
       "      <td>Leonard</td>\n",
       "    </tr>\n",
       "    <tr>\n",
       "      <th>38</th>\n",
       "      <td>Penny’s apartment</td>\n",
       "      <td>Sweetie I’m so sorry. I wish there was somethi...</td>\n",
       "      <td>Penny</td>\n",
       "    </tr>\n",
       "    <tr>\n",
       "      <th>39</th>\n",
       "      <td>The stairwell</td>\n",
       "      <td>Oh. Well good boy.</td>\n",
       "      <td>Penny</td>\n",
       "    </tr>\n",
       "    <tr>\n",
       "      <th>40</th>\n",
       "      <td>The apartment</td>\n",
       "      <td>Mitzy’s dead?</td>\n",
       "      <td>Leonard</td>\n",
       "    </tr>\n",
       "    <tr>\n",
       "      <th>41</th>\n",
       "      <td>The apartment</td>\n",
       "      <td>Okay good ’cause that’s what I want too.</td>\n",
       "      <td>Penny</td>\n",
       "    </tr>\n",
       "    <tr>\n",
       "      <th>42</th>\n",
       "      <td>The steam tunnel</td>\n",
       "      <td>Let’s set up the equipment. It’ll help take yo...</td>\n",
       "      <td>Raj</td>\n",
       "    </tr>\n",
       "    <tr>\n",
       "      <th>43</th>\n",
       "      <td>Leonard’s laboratory</td>\n",
       "      <td>Sharp. Thanks to the machine we saw earlier.</td>\n",
       "      <td>Penny</td>\n",
       "    </tr>\n",
       "    <tr>\n",
       "      <th>44</th>\n",
       "      <td>Amy’s apartment</td>\n",
       "      <td>Amy. Hmm. Tables work too. Good to know.</td>\n",
       "      <td>Sheldon</td>\n",
       "    </tr>\n",
       "    <tr>\n",
       "      <th>45</th>\n",
       "      <td>Howard and Bernadette’s Bedroom</td>\n",
       "      <td>The Fantastic Four reunited.</td>\n",
       "      <td>Howard</td>\n",
       "    </tr>\n",
       "    <tr>\n",
       "      <th>46</th>\n",
       "      <td>Penny’s apartment door</td>\n",
       "      <td>All right. Terrific. Well let me just go find ...</td>\n",
       "      <td>Penny</td>\n",
       "    </tr>\n",
       "    <tr>\n",
       "      <th>47</th>\n",
       "      <td>Penny’s door</td>\n",
       "      <td>Penny.</td>\n",
       "      <td>Sheldon</td>\n",
       "    </tr>\n",
       "    <tr>\n",
       "      <th>48</th>\n",
       "      <td>Sheldon’s office</td>\n",
       "      <td>Way to make lemonade. You know from around the...</td>\n",
       "      <td>Howard</td>\n",
       "    </tr>\n",
       "  </tbody>\n",
       "</table>\n",
       "</div>"
      ],
      "text/plain": [
       "                                             Location  \\\n",
       "0                                       The apartment   \n",
       "1                                       The apartment   \n",
       "2                            The room in the basement   \n",
       "3                           Sheldon and Amy’s bedroom   \n",
       "4                                            A cinema   \n",
       "5                                       The apartment   \n",
       "6   Webcam conversation between Bernadette’s Offic...   \n",
       "7                                     Penny’s bedroom   \n",
       "8                                       The apartment   \n",
       "9                                            The same   \n",
       "10                                      The apartment   \n",
       "11                                    The escape room   \n",
       "12                                      The apartment   \n",
       "13                                      The cafeteria   \n",
       "14                                        The hallway   \n",
       "15                                          The foyer   \n",
       "16                                      The apartment   \n",
       "17                                      The cafeteria   \n",
       "18                                   The Physics Bowl   \n",
       "19                                      The apartment   \n",
       "20                                      The apartment   \n",
       "21                                      The cafeteria   \n",
       "22                                      The apartment   \n",
       "23                                      The apartment   \n",
       "24                                      The apartment   \n",
       "25                                      The apartment   \n",
       "26                                       The memorial   \n",
       "27                           The university cafeteria   \n",
       "28                               The comic book store   \n",
       "29                                          The store   \n",
       "30                                      The apartment   \n",
       "31                                      Moments later   \n",
       "32                                    The living room   \n",
       "33                    Lobby of the apartment building   \n",
       "34                                   The next morning   \n",
       "35                                        Penny’s car   \n",
       "36                                      The apartment   \n",
       "37                                      The apartment   \n",
       "38                                  Penny’s apartment   \n",
       "39                                      The stairwell   \n",
       "40                                      The apartment   \n",
       "41                                      The apartment   \n",
       "42                                   The steam tunnel   \n",
       "43                               Leonard’s laboratory   \n",
       "44                                    Amy’s apartment   \n",
       "45                    Howard and Bernadette’s Bedroom   \n",
       "46                             Penny’s apartment door   \n",
       "47                                       Penny’s door   \n",
       "48                                   Sheldon’s office   \n",
       "\n",
       "                                                 Text  Speaker  \n",
       "0                               Again I’m right here.  Leonard  \n",
       "1   Fine. The record shall so reflect. Now getting...  Sheldon  \n",
       "2   One two three four five six seven eight… Drat....  Sheldon  \n",
       "3   I’m not sure. Earlier tonight things began org...  Sheldon  \n",
       "4               He’s finding the acoustic sweet spot.  Leonard  \n",
       "5                                                 NaN   Howard  \n",
       "6   Uh yeah last night. He kept making me drop pen...   Howard  \n",
       "7                                               What?    Penny  \n",
       "8   There was a flier on the bulletin board at the...  Leonard  \n",
       "9   Oh. A small human wreaks havoc on his wife’s g...  Sheldon  \n",
       "10                  Can we please change the subject.  Leonard  \n",
       "11                 Here it is. There’s a black light.  Leonard  \n",
       "12                        He would get his own place.    Penny  \n",
       "13                                          You okay?  Leonard  \n",
       "14                                              Kurt!    Penny  \n",
       "15  Yeah but Sheldon and Amy were having date nigh...  Leonard  \n",
       "16                              Okay well goodnight.   Leonard  \n",
       "17                                          Positive.  Leonard  \n",
       "18                                  A sigma particle.  Sheldon  \n",
       "19  He’s not wrong. It was your crackpot idea that...  Sheldon  \n",
       "20  Well if you want privacy let go of the ring. I...      Raj  \n",
       "21                 That does it. I’m getting uranium.  Sheldon  \n",
       "22                                What are you doing?      Raj  \n",
       "23  Oh now I’m a child? Well at least I’m not an i...    Penny  \n",
       "24  Normally I’d feel the same way. But based on e...  Sheldon  \n",
       "25                                        Definitely.    Penny  \n",
       "26  I’m just gonna go home and let my work speak f...  Leonard  \n",
       "27     Oh Leonard there you are I’m ready to go home.  Sheldon  \n",
       "28                                                NaN   Howard  \n",
       "29  You have no idea how much you inconvenience th...  Leonard  \n",
       "30                                      Yeah I guess.    Penny  \n",
       "31  As it turns out she was a North Korean spy. Lu...  Leonard  \n",
       "32            I have paperwork that says differently.  Sheldon  \n",
       "33                                We’re really more….  Leonard  \n",
       "34              I wonder why she didn’t say good-bye.  Leonard  \n",
       "35    Because he’s not like us Penny. We’re dreamers.  Sheldon  \n",
       "36  No I was in India it was humid and smelled funny.   Howard  \n",
       "37  You just wave your arms a little and they fly ...  Leonard  \n",
       "38  Sweetie I’m so sorry. I wish there was somethi...    Penny  \n",
       "39                                 Oh. Well good boy.    Penny  \n",
       "40                                      Mitzy’s dead?  Leonard  \n",
       "41           Okay good ’cause that’s what I want too.    Penny  \n",
       "42  Let’s set up the equipment. It’ll help take yo...      Raj  \n",
       "43       Sharp. Thanks to the machine we saw earlier.    Penny  \n",
       "44           Amy. Hmm. Tables work too. Good to know.  Sheldon  \n",
       "45                       The Fantastic Four reunited.   Howard  \n",
       "46  All right. Terrific. Well let me just go find ...    Penny  \n",
       "47                                             Penny.  Sheldon  \n",
       "48  Way to make lemonade. You know from around the...   Howard  "
      ]
     },
     "execution_count": 12,
     "metadata": {},
     "output_type": "execute_result"
    }
   ],
   "source": [
    "df"
   ]
  },
  {
   "cell_type": "code",
   "execution_count": null,
   "metadata": {},
   "outputs": [],
   "source": [
    "dict_df = df.to_dict()"
   ]
  },
  {
   "cell_type": "code",
   "execution_count": null,
   "metadata": {
    "scrolled": true
   },
   "outputs": [],
   "source": [
    "df"
   ]
  },
  {
   "cell_type": "code",
   "execution_count": null,
   "metadata": {},
   "outputs": [],
   "source": [
    "\n",
    "\n",
    "mensajes = []\n",
    "for i in df.index:\n",
    "    mensajes.append(dict(df.loc[i]))\n",
    "mensajes\n",
    "\n"
   ]
  },
  {
   "cell_type": "code",
   "execution_count": null,
   "metadata": {},
   "outputs": [],
   "source": []
  },
  {
   "cell_type": "code",
   "execution_count": null,
   "metadata": {},
   "outputs": [],
   "source": []
  },
  {
   "cell_type": "code",
   "execution_count": null,
   "metadata": {},
   "outputs": [],
   "source": []
  },
  {
   "cell_type": "code",
   "execution_count": null,
   "metadata": {},
   "outputs": [],
   "source": []
  },
  {
   "cell_type": "code",
   "execution_count": null,
   "metadata": {},
   "outputs": [],
   "source": []
  },
  {
   "cell_type": "code",
   "execution_count": null,
   "metadata": {},
   "outputs": [],
   "source": []
  },
  {
   "cell_type": "code",
   "execution_count": null,
   "metadata": {},
   "outputs": [],
   "source": []
  },
  {
   "cell_type": "code",
   "execution_count": null,
   "metadata": {},
   "outputs": [],
   "source": []
  },
  {
   "cell_type": "code",
   "execution_count": null,
   "metadata": {
    "scrolled": false
   },
   "outputs": [],
   "source": [
    "df.head()"
   ]
  },
  {
   "cell_type": "code",
   "execution_count": null,
   "metadata": {},
   "outputs": [],
   "source": [
    "df[\"name\"] = pd.DataFrame(df[[\"Speaker\"]])"
   ]
  },
  {
   "cell_type": "code",
   "execution_count": null,
   "metadata": {
    "scrolled": true
   },
   "outputs": [],
   "source": [
    "df.head()"
   ]
  },
  {
   "cell_type": "code",
   "execution_count": null,
   "metadata": {
    "scrolled": true
   },
   "outputs": [],
   "source": [
    "df_personajes = pd.DataFrame(df[\"name\"].unique())"
   ]
  },
  {
   "cell_type": "code",
   "execution_count": null,
   "metadata": {},
   "outputs": [],
   "source": [
    "df_personajes"
   ]
  },
  {
   "cell_type": "code",
   "execution_count": null,
   "metadata": {
    "scrolled": true
   },
   "outputs": [],
   "source": [
    "df_personajes.rename(columns={0, \"name\"})"
   ]
  },
  {
   "cell_type": "code",
   "execution_count": null,
   "metadata": {},
   "outputs": [],
   "source": [
    "df_personajes[\"name\"]=pd.DataFrame(df_personajes[[0]])"
   ]
  },
  {
   "cell_type": "code",
   "execution_count": null,
   "metadata": {},
   "outputs": [],
   "source": [
    "df_personajes"
   ]
  },
  {
   "cell_type": "code",
   "execution_count": null,
   "metadata": {},
   "outputs": [],
   "source": [
    "personajes1=df_personajes.drop([0], axis=1)"
   ]
  },
  {
   "cell_type": "code",
   "execution_count": null,
   "metadata": {},
   "outputs": [],
   "source": [
    "personajes1.columns"
   ]
  },
  {
   "cell_type": "code",
   "execution_count": null,
   "metadata": {},
   "outputs": [],
   "source": [
    "personajes1"
   ]
  },
  {
   "cell_type": "code",
   "execution_count": null,
   "metadata": {},
   "outputs": [],
   "source": [
    "list_personajes = []\n",
    "for i in personajes1.index:\n",
    "    list_personajes.append(dict(personajes1.loc[i]))\n",
    "json_personajes = json.dumps(list_personajes)"
   ]
  },
  {
   "cell_type": "code",
   "execution_count": null,
   "metadata": {},
   "outputs": [],
   "source": [
    "json_personajes"
   ]
  },
  {
   "cell_type": "code",
   "execution_count": null,
   "metadata": {},
   "outputs": [],
   "source": [
    "type(list_personajes)\n",
    "list_personajes"
   ]
  },
  {
   "cell_type": "code",
   "execution_count": null,
   "metadata": {},
   "outputs": [],
   "source": [
    "\n",
    "for i in list_personajes:\n",
    "    print(i)\n",
    "    for k, v in i.items():\n",
    "        personajes_dic = {\n",
    "            k:v\n",
    "        }\n",
    "        print(k, v)\n",
    "        \n",
    "    #print(i)\n",
    "    #personajes_dic = {\n",
    "    #   i[0]:i[1] \n",
    "    #}\n",
    "    "
   ]
  },
  {
   "cell_type": "code",
   "execution_count": null,
   "metadata": {},
   "outputs": [],
   "source": []
  },
  {
   "cell_type": "code",
   "execution_count": null,
   "metadata": {},
   "outputs": [],
   "source": [
    "mensajes.to_json(\"data/json_completo_personajes.json\")"
   ]
  },
  {
   "cell_type": "code",
   "execution_count": null,
   "metadata": {},
   "outputs": [],
   "source": []
  },
  {
   "cell_type": "code",
   "execution_count": null,
   "metadata": {},
   "outputs": [],
   "source": []
  },
  {
   "cell_type": "code",
   "execution_count": null,
   "metadata": {},
   "outputs": [],
   "source": [
    "personajes.to_list()"
   ]
  },
  {
   "cell_type": "code",
   "execution_count": null,
   "metadata": {},
   "outputs": [],
   "source": [
    "for k, v in personajes:\n",
    "    "
   ]
  },
  {
   "cell_type": "code",
   "execution_count": null,
   "metadata": {},
   "outputs": [],
   "source": []
  },
  {
   "cell_type": "code",
   "execution_count": null,
   "metadata": {},
   "outputs": [],
   "source": []
  },
  {
   "cell_type": "code",
   "execution_count": null,
   "metadata": {},
   "outputs": [],
   "source": []
  },
  {
   "cell_type": "code",
   "execution_count": null,
   "metadata": {},
   "outputs": [],
   "source": []
  },
  {
   "cell_type": "code",
   "execution_count": null,
   "metadata": {},
   "outputs": [],
   "source": [
    "df_personajes.to_json(\"data/json_personajes.json\")\n"
   ]
  },
  {
   "cell_type": "code",
   "execution_count": null,
   "metadata": {},
   "outputs": [],
   "source": [
    "location = []\n",
    "for i in df[\"Location\"]:\n",
    "    location.append(i)\n",
    "\n"
   ]
  },
  {
   "cell_type": "code",
   "execution_count": null,
   "metadata": {
    "scrolled": true
   },
   "outputs": [],
   "source": [
    "location_dict = {\n",
    "    \"location\": location\n",
    "}\n",
    "location_dict"
   ]
  },
  {
   "cell_type": "code",
   "execution_count": null,
   "metadata": {},
   "outputs": [],
   "source": [
    "from pymongo import MongoClient"
   ]
  },
  {
   "cell_type": "code",
   "execution_count": null,
   "metadata": {},
   "outputs": [],
   "source": [
    "client = MongoClient()"
   ]
  },
  {
   "cell_type": "code",
   "execution_count": null,
   "metadata": {},
   "outputs": [],
   "source": [
    "db = client.BigBangTheory"
   ]
  },
  {
   "cell_type": "code",
   "execution_count": null,
   "metadata": {},
   "outputs": [],
   "source": [
    "db"
   ]
  },
  {
   "cell_type": "code",
   "execution_count": null,
   "metadata": {},
   "outputs": [],
   "source": [
    "def añadir_speaker(nombre):\n",
    "    \"\"\"\n",
    "    Checkea si existe un user en la bd y lo añade si no es así.\n",
    "    \"\"\"\n",
    "    checkparam = \"name\"\n",
    "    if check.user(nombre,checkparam) == True:\n",
    "        pass\n",
    "    else:\n",
    "        error = 'Ya existe un usuario con ese user_id en la base de datos'\n",
    "        raise ValueError (error)\n",
    "    query = {}\n",
    "    identity=list(coll_user.find(query,{\"_id\":0,\"name\":1}))\n",
    "\n",
    "    dict_insert={\n",
    "        'user_id': f'{len(identity)}',\n",
    "        'name':nombre\n",
    "    }\n",
    "    coll_user.insert_one(dict_insert)"
   ]
  },
  {
   "cell_type": "code",
   "execution_count": null,
   "metadata": {},
   "outputs": [],
   "source": [
    "def insert(data,coll,database=db):\n",
    "    \"\"\"\n",
    "    Function for inserting documents into a mongo collection.\n",
    "    data -> document to be inserted\n",
    "    coll -> string of collection name\n",
    "    database -> database object, defaults to hollywoodapi\n",
    "    \"\"\"\n",
    "    res = database[coll].insert_one(data)\n",
    "    return res.inserted_id\n"
   ]
  },
  {
   "cell_type": "code",
   "execution_count": null,
   "metadata": {},
   "outputs": [],
   "source": [
    "def read(query,coll,database=db, project=None):\n",
    "    \"\"\"\n",
    "    Function for reading documents of a mongo collection.\n",
    "    query -> filter for mongo query\n",
    "    coll -> string of collection name\n",
    "    database -> database object, defaults to hollywoodapi\n",
    "    \"\"\"\n",
    "    # If project=None, all attributes will be shown\n",
    "    data = database[coll].find(query, project)\n",
    "    return list(data)"
   ]
  },
  {
   "cell_type": "code",
   "execution_count": null,
   "metadata": {},
   "outputs": [],
   "source": []
  }
 ],
 "metadata": {
  "kernelspec": {
   "display_name": "Python 3",
   "language": "python",
   "name": "python3"
  },
  "language_info": {
   "codemirror_mode": {
    "name": "ipython",
    "version": 3
   },
   "file_extension": ".py",
   "mimetype": "text/x-python",
   "name": "python",
   "nbconvert_exporter": "python",
   "pygments_lexer": "ipython3",
   "version": "3.8.5"
  }
 },
 "nbformat": 4,
 "nbformat_minor": 4
}
